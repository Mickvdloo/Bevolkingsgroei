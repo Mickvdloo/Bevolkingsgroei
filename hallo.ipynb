{
 "cells": [
  {
   "cell_type": "code",
   "execution_count": 21,
   "id": "1791542b",
   "metadata": {},
   "outputs": [],
   "source": [
    "import matplotlib.pyplot as plt\n",
    "import numpy as np \n",
    "import pandas as pd\n",
    "import seaborn as sns\n",
    "import streamlit as st"
   ]
  },
  {
   "cell_type": "code",
   "execution_count": 22,
   "id": "3f1b18a9",
   "metadata": {},
   "outputs": [],
   "source": [
    "df= pd.read_csv('csv_met_alle_data.csv',sep=';')"
   ]
  },
  {
   "cell_type": "code",
   "execution_count": 23,
   "id": "dbb71903",
   "metadata": {},
   "outputs": [],
   "source": [
    "new= pd.read_csv('Bevolkingsontwikkeling__regio_per_maand_12042022_202608.csv',sep=';')"
   ]
  },
  {
   "cell_type": "code",
   "execution_count": 24,
   "id": "990a4953",
   "metadata": {},
   "outputs": [
    {
     "data": {
      "text/plain": [
       "DeltaGenerator(_root_container=0, _provided_cursor=None, _parent=None, _block_type=None, _form_data=None)"
      ]
     },
     "execution_count": 24,
     "metadata": {},
     "output_type": "execute_result"
    }
   ],
   "source": [
    "st.title('Bevolkingsgroei door de jaren heen')\n",
    "\n",
    "st.subheader('Janneke Bolder, Floor Franken & Mick van der Loo')"
   ]
  },
  {
   "cell_type": "code",
   "execution_count": 25,
   "id": "fa17b343",
   "metadata": {},
   "outputs": [
    {
     "data": {
      "text/plain": [
       "DeltaGenerator(_root_container=0, _provided_cursor=None, _parent=None, _block_type=None, _form_data=None)"
      ]
     },
     "execution_count": 25,
     "metadata": {},
     "output_type": "execute_result"
    }
   ],
   "source": [
    "st.write('het DataFrame waar we mee hebben gewerkt.')\n",
    "st.dataframe(new) "
   ]
  },
  {
   "cell_type": "code",
   "execution_count": 26,
   "id": "ef88bfef",
   "metadata": {},
   "outputs": [
    {
     "data": {
      "text/plain": [
       "DeltaGenerator(_root_container=0, _provided_cursor=None, _parent=None, _block_type=None, _form_data=None)"
      ]
     },
     "execution_count": 26,
     "metadata": {},
     "output_type": "execute_result"
    },
    {
     "data": {
      "image/png": "[encoded data removed]",
      "text/plain": [
       "<Figure size 432x288 with 1 Axes>"
      ]
     },
     "metadata": {
      "needs_background": "light"
     },
     "output_type": "display_data"
    }
   ],
   "source": [
    "st.title('Visualisatie van de data per jaar')\n",
    "st.write(\"Hieronder kunt u de verdeling per variabele in de dataset zien.\")\n",
    "fig, ax = plt.subplots()\n",
    "st.pyplot(fig)\n",
    "\n",
    "option = st.selectbox(\n",
    "     'Welke variabele wilt u visualiseren?',\n",
    "     ('Bevolking aan het begin van de periode','Levend geboren kinderen','Overledenen','Bevolkingsgroei/Bevolkingsgroei,(%)','Vestiging in de gemeente /Immigratie ','Vertrek uit de gemeente/Emigratie '))\n",
    "if option == 'Bevolking aan het begin van de periode':\n",
    "    ax.hist(new['Bevolking aan het begin van de periode (aantal)'], bins=20)\n",
    "elif option == 'Levend geboren kinderen':\n",
    "    ax.hist(new['Levend geboren kinderen (aantal)'], bins=20)\n",
    "elif option == 'Overledenen':\n",
    "    ax.hist(new['Overledenen (aantal)'], bins=20)\n",
    "elif option == 'Bevolkingsgroei/Bevolkingsgroei,(%)':\n",
    "    ax.hist(new['Bevolkingsgroei/Bevolkingsgroei, relatief (%)'], bins=20)\n",
    "elif option == 'Vestiging in de gemeente /Immigratie ':\n",
    "    ax.hist(new['Vestiging in de gemeente /Immigratie (aantal)'], bins=20)\n",
    "elif option == 'Vertrek uit de gemeente/Emigratie ':\n",
    "    ax.hist(new['Vertrek uit de gemeente/Emigratie inclusief adm. correcties (aantal)'], bins=20)\n",
    "plt.xlabel('x')\n",
    "plt.ylabel('y')\n",
    "plt.title('Histogram')\n",
    "\n",
    "st.pyplot(fig)"
   ]
  },
  {
   "cell_type": "code",
   "execution_count": 36,
   "id": "91e1c3fd",
   "metadata": {},
   "outputs": [
    {
     "ename": "StreamlitAPIException",
     "evalue": "(\"Expected bytes, got a 'int' object\", 'Conversion failed for column value with type object')",
     "output_type": "error",
     "traceback": [
      "\u001b[1;31m---------------------------------------------------------------------------\u001b[0m",
      "\u001b[1;31mArrowTypeError\u001b[0m                            Traceback (most recent call last)",
      "File \u001b[1;32m~\\anaconda3\\envs\\geo_env\\lib\\site-packages\\streamlit\\type_util.py:379\u001b[0m, in \u001b[0;36mdata_frame_to_bytes\u001b[1;34m(df)\u001b[0m\n\u001b[0;32m    378\u001b[0m \u001b[38;5;28;01mtry\u001b[39;00m:\n\u001b[1;32m--> 379\u001b[0m     table \u001b[38;5;241m=\u001b[39m \u001b[43mpa\u001b[49m\u001b[38;5;241;43m.\u001b[39;49m\u001b[43mTable\u001b[49m\u001b[38;5;241;43m.\u001b[39;49m\u001b[43mfrom_pandas\u001b[49m\u001b[43m(\u001b[49m\u001b[43mdf\u001b[49m\u001b[43m)\u001b[49m\n\u001b[0;32m    380\u001b[0m     \u001b[38;5;28;01mreturn\u001b[39;00m pyarrow_table_to_bytes(table)\n",
      "File \u001b[1;32m~\\anaconda3\\envs\\geo_env\\lib\\site-packages\\pyarrow\\table.pxi:1782\u001b[0m, in \u001b[0;36mpyarrow.lib.Table.from_pandas\u001b[1;34m()\u001b[0m\n",
      "File \u001b[1;32m~\\anaconda3\\envs\\geo_env\\lib\\site-packages\\pyarrow\\pandas_compat.py:594\u001b[0m, in \u001b[0;36mdataframe_to_arrays\u001b[1;34m(df, schema, preserve_index, nthreads, columns, safe)\u001b[0m\n\u001b[0;32m    593\u001b[0m \u001b[38;5;28;01mif\u001b[39;00m nthreads \u001b[38;5;241m==\u001b[39m \u001b[38;5;241m1\u001b[39m:\n\u001b[1;32m--> 594\u001b[0m     arrays \u001b[38;5;241m=\u001b[39m [convert_column(c, f)\n\u001b[0;32m    595\u001b[0m               \u001b[38;5;28;01mfor\u001b[39;00m c, f \u001b[38;5;129;01min\u001b[39;00m \u001b[38;5;28mzip\u001b[39m(columns_to_convert, convert_fields)]\n\u001b[0;32m    596\u001b[0m \u001b[38;5;28;01melse\u001b[39;00m:\n",
      "File \u001b[1;32m~\\anaconda3\\envs\\geo_env\\lib\\site-packages\\pyarrow\\pandas_compat.py:594\u001b[0m, in \u001b[0;36m<listcomp>\u001b[1;34m(.0)\u001b[0m\n\u001b[0;32m    593\u001b[0m \u001b[38;5;28;01mif\u001b[39;00m nthreads \u001b[38;5;241m==\u001b[39m \u001b[38;5;241m1\u001b[39m:\n\u001b[1;32m--> 594\u001b[0m     arrays \u001b[38;5;241m=\u001b[39m [\u001b[43mconvert_column\u001b[49m\u001b[43m(\u001b[49m\u001b[43mc\u001b[49m\u001b[43m,\u001b[49m\u001b[43m \u001b[49m\u001b[43mf\u001b[49m\u001b[43m)\u001b[49m\n\u001b[0;32m    595\u001b[0m               \u001b[38;5;28;01mfor\u001b[39;00m c, f \u001b[38;5;129;01min\u001b[39;00m \u001b[38;5;28mzip\u001b[39m(columns_to_convert, convert_fields)]\n\u001b[0;32m    596\u001b[0m \u001b[38;5;28;01melse\u001b[39;00m:\n",
      "File \u001b[1;32m~\\anaconda3\\envs\\geo_env\\lib\\site-packages\\pyarrow\\pandas_compat.py:581\u001b[0m, in \u001b[0;36mdataframe_to_arrays.<locals>.convert_column\u001b[1;34m(col, field)\u001b[0m\n\u001b[0;32m    579\u001b[0m     e\u001b[38;5;241m.\u001b[39margs \u001b[38;5;241m+\u001b[39m\u001b[38;5;241m=\u001b[39m (\u001b[38;5;124m\"\u001b[39m\u001b[38;5;124mConversion failed for column \u001b[39m\u001b[38;5;132;01m{!s}\u001b[39;00m\u001b[38;5;124m with type \u001b[39m\u001b[38;5;132;01m{!s}\u001b[39;00m\u001b[38;5;124m\"\u001b[39m\n\u001b[0;32m    580\u001b[0m                \u001b[38;5;241m.\u001b[39mformat(col\u001b[38;5;241m.\u001b[39mname, col\u001b[38;5;241m.\u001b[39mdtype),)\n\u001b[1;32m--> 581\u001b[0m     \u001b[38;5;28;01mraise\u001b[39;00m e\n\u001b[0;32m    582\u001b[0m \u001b[38;5;28;01mif\u001b[39;00m \u001b[38;5;129;01mnot\u001b[39;00m field_nullable \u001b[38;5;129;01mand\u001b[39;00m result\u001b[38;5;241m.\u001b[39mnull_count \u001b[38;5;241m>\u001b[39m \u001b[38;5;241m0\u001b[39m:\n",
      "File \u001b[1;32m~\\anaconda3\\envs\\geo_env\\lib\\site-packages\\pyarrow\\pandas_compat.py:575\u001b[0m, in \u001b[0;36mdataframe_to_arrays.<locals>.convert_column\u001b[1;34m(col, field)\u001b[0m\n\u001b[0;32m    574\u001b[0m \u001b[38;5;28;01mtry\u001b[39;00m:\n\u001b[1;32m--> 575\u001b[0m     result \u001b[38;5;241m=\u001b[39m \u001b[43mpa\u001b[49m\u001b[38;5;241;43m.\u001b[39;49m\u001b[43marray\u001b[49m\u001b[43m(\u001b[49m\u001b[43mcol\u001b[49m\u001b[43m,\u001b[49m\u001b[43m \u001b[49m\u001b[38;5;28;43mtype\u001b[39;49m\u001b[38;5;241;43m=\u001b[39;49m\u001b[43mtype_\u001b[49m\u001b[43m,\u001b[49m\u001b[43m \u001b[49m\u001b[43mfrom_pandas\u001b[49m\u001b[38;5;241;43m=\u001b[39;49m\u001b[38;5;28;43;01mTrue\u001b[39;49;00m\u001b[43m,\u001b[49m\u001b[43m \u001b[49m\u001b[43msafe\u001b[49m\u001b[38;5;241;43m=\u001b[39;49m\u001b[43msafe\u001b[49m\u001b[43m)\u001b[49m\n\u001b[0;32m    576\u001b[0m \u001b[38;5;28;01mexcept\u001b[39;00m (pa\u001b[38;5;241m.\u001b[39mArrowInvalid,\n\u001b[0;32m    577\u001b[0m         pa\u001b[38;5;241m.\u001b[39mArrowNotImplementedError,\n\u001b[0;32m    578\u001b[0m         pa\u001b[38;5;241m.\u001b[39mArrowTypeError) \u001b[38;5;28;01mas\u001b[39;00m e:\n",
      "File \u001b[1;32m~\\anaconda3\\envs\\geo_env\\lib\\site-packages\\pyarrow\\array.pxi:312\u001b[0m, in \u001b[0;36mpyarrow.lib.array\u001b[1;34m()\u001b[0m\n",
      "File \u001b[1;32m~\\anaconda3\\envs\\geo_env\\lib\\site-packages\\pyarrow\\array.pxi:83\u001b[0m, in \u001b[0;36mpyarrow.lib._ndarray_to_array\u001b[1;34m()\u001b[0m\n",
      "File \u001b[1;32m~\\anaconda3\\envs\\geo_env\\lib\\site-packages\\pyarrow\\error.pxi:122\u001b[0m, in \u001b[0;36mpyarrow.lib.check_status\u001b[1;34m()\u001b[0m\n",
      "\u001b[1;31mArrowTypeError\u001b[0m: (\"Expected bytes, got a 'int' object\", 'Conversion failed for column value with type object')",
      "\nDuring handling of the above exception, another exception occurred:\n",
      "\u001b[1;31mStreamlitAPIException\u001b[0m                     Traceback (most recent call last)",
      "Input \u001b[1;32mIn [36]\u001b[0m, in \u001b[0;36m<cell line: 3>\u001b[1;34m()\u001b[0m\n\u001b[0;32m      1\u001b[0m st\u001b[38;5;241m.\u001b[39mwrite(\u001b[38;5;124m\"\u001b[39m\u001b[38;5;124mIn de histogrammen is niet duidelijk te bepalen wat de data nou eigenlijk zegt, hierom hebben we ook line charts gemaakt van de data.\u001b[39m\u001b[38;5;124m\"\u001b[39m)\n\u001b[1;32m----> 3\u001b[0m \u001b[43mst\u001b[49m\u001b[38;5;241;43m.\u001b[39;49m\u001b[43mline_chart\u001b[49m\u001b[43m(\u001b[49m\u001b[43mscatter\u001b[49m\u001b[43m)\u001b[49m\n",
      "File \u001b[1;32m~\\anaconda3\\envs\\geo_env\\lib\\site-packages\\streamlit\\elements\\dataframe_selector.py:166\u001b[0m, in \u001b[0;36mDataFrameSelectorMixin.line_chart\u001b[1;34m(self, data, width, height, use_container_width)\u001b[0m\n\u001b[0;32m    123\u001b[0m \u001b[38;5;124;03m\"\"\"Display a line chart.\u001b[39;00m\n\u001b[0;32m    124\u001b[0m \n\u001b[0;32m    125\u001b[0m \u001b[38;5;124;03mThis is syntax-sugar around st.altair_chart. The main difference\u001b[39;00m\n\u001b[1;32m   (...)\u001b[0m\n\u001b[0;32m    163\u001b[0m \n\u001b[0;32m    164\u001b[0m \u001b[38;5;124;03m\"\"\"\u001b[39;00m\n\u001b[0;32m    165\u001b[0m \u001b[38;5;28;01mif\u001b[39;00m _use_arrow():\n\u001b[1;32m--> 166\u001b[0m     \u001b[38;5;28;01mreturn\u001b[39;00m \u001b[38;5;28;43mself\u001b[39;49m\u001b[38;5;241;43m.\u001b[39;49m\u001b[43mdg\u001b[49m\u001b[38;5;241;43m.\u001b[39;49m\u001b[43m_arrow_line_chart\u001b[49m\u001b[43m(\u001b[49m\u001b[43mdata\u001b[49m\u001b[43m,\u001b[49m\u001b[43m \u001b[49m\u001b[43mwidth\u001b[49m\u001b[43m,\u001b[49m\u001b[43m \u001b[49m\u001b[43mheight\u001b[49m\u001b[43m,\u001b[49m\u001b[43m \u001b[49m\u001b[43muse_container_width\u001b[49m\u001b[43m)\u001b[49m\n\u001b[0;32m    167\u001b[0m \u001b[38;5;28;01melse\u001b[39;00m:\n\u001b[0;32m    168\u001b[0m     \u001b[38;5;28;01mreturn\u001b[39;00m \u001b[38;5;28mself\u001b[39m\u001b[38;5;241m.\u001b[39mdg\u001b[38;5;241m.\u001b[39m_legacy_line_chart(data, width, height, use_container_width)\n",
      "File \u001b[1;32m~\\anaconda3\\envs\\geo_env\\lib\\site-packages\\streamlit\\elements\\arrow_altair.py:92\u001b[0m, in \u001b[0;36mArrowAltairMixin._arrow_line_chart\u001b[1;34m(self, data, width, height, use_container_width)\u001b[0m\n\u001b[0;32m     90\u001b[0m proto \u001b[38;5;241m=\u001b[39m ArrowVegaLiteChartProto()\n\u001b[0;32m     91\u001b[0m chart \u001b[38;5;241m=\u001b[39m _generate_chart(ChartType\u001b[38;5;241m.\u001b[39mLINE, data, width, height)\n\u001b[1;32m---> 92\u001b[0m \u001b[43mmarshall\u001b[49m\u001b[43m(\u001b[49m\u001b[43mproto\u001b[49m\u001b[43m,\u001b[49m\u001b[43m \u001b[49m\u001b[43mchart\u001b[49m\u001b[43m,\u001b[49m\u001b[43m \u001b[49m\u001b[43muse_container_width\u001b[49m\u001b[43m)\u001b[49m\n\u001b[0;32m     93\u001b[0m last_index \u001b[38;5;241m=\u001b[39m last_index_for_melted_dataframes(data)\n\u001b[0;32m     95\u001b[0m \u001b[38;5;28;01mreturn\u001b[39;00m cast(\n\u001b[0;32m     96\u001b[0m     \u001b[38;5;124m\"\u001b[39m\u001b[38;5;124mstreamlit.delta_generator.DeltaGenerator\u001b[39m\u001b[38;5;124m\"\u001b[39m,\n\u001b[0;32m     97\u001b[0m     \u001b[38;5;28mself\u001b[39m\u001b[38;5;241m.\u001b[39mdg\u001b[38;5;241m.\u001b[39m_enqueue(\u001b[38;5;124m\"\u001b[39m\u001b[38;5;124marrow_line_chart\u001b[39m\u001b[38;5;124m\"\u001b[39m, proto, last_index\u001b[38;5;241m=\u001b[39mlast_index),\n\u001b[0;32m     98\u001b[0m )\n",
      "File \u001b[1;32m~\\anaconda3\\envs\\geo_env\\lib\\site-packages\\streamlit\\elements\\arrow_altair.py:375\u001b[0m, in \u001b[0;36mmarshall\u001b[1;34m(vega_lite_chart, altair_chart, use_container_width, **kwargs)\u001b[0m\n\u001b[0;32m    371\u001b[0m \u001b[38;5;66;03m# Put datasets back into the chart dict but note how they weren't\u001b[39;00m\n\u001b[0;32m    372\u001b[0m \u001b[38;5;66;03m# transformed.\u001b[39;00m\n\u001b[0;32m    373\u001b[0m chart_dict[\u001b[38;5;124m\"\u001b[39m\u001b[38;5;124mdatasets\u001b[39m\u001b[38;5;124m\"\u001b[39m] \u001b[38;5;241m=\u001b[39m datasets\n\u001b[1;32m--> 375\u001b[0m arrow_vega_lite\u001b[38;5;241m.\u001b[39mmarshall(\n\u001b[0;32m    376\u001b[0m     vega_lite_chart,\n\u001b[0;32m    377\u001b[0m     chart_dict,\n\u001b[0;32m    378\u001b[0m     use_container_width\u001b[38;5;241m=\u001b[39muse_container_width,\n\u001b[0;32m    379\u001b[0m     \u001b[38;5;241m*\u001b[39m\u001b[38;5;241m*\u001b[39mkwargs,\n\u001b[0;32m    380\u001b[0m )\n",
      "File \u001b[1;32m~\\anaconda3\\envs\\geo_env\\lib\\site-packages\\streamlit\\elements\\arrow_vega_lite.py:151\u001b[0m, in \u001b[0;36mmarshall\u001b[1;34m(proto, data, spec, use_container_width, **kwargs)\u001b[0m\n\u001b[0;32m    149\u001b[0m         dataset\u001b[38;5;241m.\u001b[39mname \u001b[38;5;241m=\u001b[39m \u001b[38;5;28mstr\u001b[39m(k)\n\u001b[0;32m    150\u001b[0m         dataset\u001b[38;5;241m.\u001b[39mhas_name \u001b[38;5;241m=\u001b[39m \u001b[38;5;28;01mTrue\u001b[39;00m\n\u001b[1;32m--> 151\u001b[0m         \u001b[43marrow\u001b[49m\u001b[38;5;241;43m.\u001b[39;49m\u001b[43mmarshall\u001b[49m\u001b[43m(\u001b[49m\u001b[43mdataset\u001b[49m\u001b[38;5;241;43m.\u001b[39;49m\u001b[43mdata\u001b[49m\u001b[43m,\u001b[49m\u001b[43m \u001b[49m\u001b[43mv\u001b[49m\u001b[43m)\u001b[49m\n\u001b[0;32m    152\u001b[0m     \u001b[38;5;28;01mdel\u001b[39;00m spec[\u001b[38;5;124m\"\u001b[39m\u001b[38;5;124mdatasets\u001b[39m\u001b[38;5;124m\"\u001b[39m]\n\u001b[0;32m    154\u001b[0m \u001b[38;5;66;03m# Pull data out of spec dict when it's in a top-level 'data' key:\u001b[39;00m\n\u001b[0;32m    155\u001b[0m \u001b[38;5;66;03m#   marshall(proto, {data: df})\u001b[39;00m\n\u001b[0;32m    156\u001b[0m \u001b[38;5;66;03m#   marshall(proto, {data: {values: df, ...}})\u001b[39;00m\n\u001b[0;32m    157\u001b[0m \u001b[38;5;66;03m#   marshall(proto, {data: {url: 'url'}})\u001b[39;00m\n\u001b[0;32m    158\u001b[0m \u001b[38;5;66;03m#   marshall(proto, {data: {name: 'foo'}})\u001b[39;00m\n",
      "File \u001b[1;32m~\\anaconda3\\envs\\geo_env\\lib\\site-packages\\streamlit\\elements\\arrow.py:160\u001b[0m, in \u001b[0;36mmarshall\u001b[1;34m(proto, data, default_uuid)\u001b[0m\n\u001b[0;32m    158\u001b[0m \u001b[38;5;28;01melse\u001b[39;00m:\n\u001b[0;32m    159\u001b[0m     df \u001b[38;5;241m=\u001b[39m type_util\u001b[38;5;241m.\u001b[39mconvert_anything_to_df(data)\n\u001b[1;32m--> 160\u001b[0m     proto\u001b[38;5;241m.\u001b[39mdata \u001b[38;5;241m=\u001b[39m \u001b[43mtype_util\u001b[49m\u001b[38;5;241;43m.\u001b[39;49m\u001b[43mdata_frame_to_bytes\u001b[49m\u001b[43m(\u001b[49m\u001b[43mdf\u001b[49m\u001b[43m)\u001b[49m\n",
      "File \u001b[1;32m~\\anaconda3\\envs\\geo_env\\lib\\site-packages\\streamlit\\type_util.py:392\u001b[0m, in \u001b[0;36mdata_frame_to_bytes\u001b[1;34m(df)\u001b[0m\n\u001b[0;32m    384\u001b[0m             \u001b[38;5;28;01mraise\u001b[39;00m errors\u001b[38;5;241m.\u001b[39mNumpyDtypeException(\n\u001b[0;32m    385\u001b[0m                 \u001b[38;5;124;03m\"\"\"\u001b[39;00m\n\u001b[0;32m    386\u001b[0m \u001b[38;5;124;03mUnable to convert `numpy.dtype` to `pyarrow.DataType`.\u001b[39;00m\n\u001b[1;32m   (...)\u001b[0m\n\u001b[0;32m    389\u001b[0m \u001b[38;5;124;03m\"\"\"\u001b[39;00m\n\u001b[0;32m    390\u001b[0m             )\n\u001b[0;32m    391\u001b[0m         \u001b[38;5;28;01melse\u001b[39;00m:\n\u001b[1;32m--> 392\u001b[0m             \u001b[38;5;28;01mraise\u001b[39;00m errors\u001b[38;5;241m.\u001b[39mStreamlitAPIException(e)\n",
      "\u001b[1;31mStreamlitAPIException\u001b[0m: (\"Expected bytes, got a 'int' object\", 'Conversion failed for column value with type object')"
     ]
    }
   ],
   "source": [
    "st.write(\"In de histogrammen is niet duidelijk te bepalen wat de data nou eigenlijk zegt, hierom hebben we ook line charts gemaakt van de data.\")\n",
    "\n",
    "st.line_chart(test)\n",
    "#assen en titel toevoegen"
   ]
  },
  {
   "cell_type": "code",
   "execution_count": 35,
   "id": "709bb5fa",
   "metadata": {},
   "outputs": [
    {
     "data": {
      "text/html": [
       "<div>\n",
       "<style scoped>\n",
       "    .dataframe tbody tr th:only-of-type {\n",
       "        vertical-align: middle;\n",
       "    }\n",
       "\n",
       "    .dataframe tbody tr th {\n",
       "        vertical-align: top;\n",
       "    }\n",
       "\n",
       "    .dataframe thead th {\n",
       "        text-align: right;\n",
       "    }\n",
       "</style>\n",
       "<table border=\"1\" class=\"dataframe\">\n",
       "  <thead>\n",
       "    <tr style=\"text-align: right;\">\n",
       "      <th></th>\n",
       "      <th>Levend geboren kinderen (aantal)</th>\n",
       "      <th>Overledenen (aantal)</th>\n",
       "      <th>Bevolking aan het begin van de periode (aantal)</th>\n",
       "    </tr>\n",
       "    <tr>\n",
       "      <th>Perioden</th>\n",
       "      <th></th>\n",
       "      <th></th>\n",
       "      <th></th>\n",
       "    </tr>\n",
       "  </thead>\n",
       "  <tbody>\n",
       "    <tr>\n",
       "      <th>2002</th>\n",
       "      <td>202083</td>\n",
       "      <td>142355</td>\n",
       "      <td>16105285</td>\n",
       "    </tr>\n",
       "    <tr>\n",
       "      <th>2003</th>\n",
       "      <td>200297</td>\n",
       "      <td>141936</td>\n",
       "      <td>16192572</td>\n",
       "    </tr>\n",
       "    <tr>\n",
       "      <th>2004</th>\n",
       "      <td>194007</td>\n",
       "      <td>136553</td>\n",
       "      <td>16258032</td>\n",
       "    </tr>\n",
       "    <tr>\n",
       "      <th>2005</th>\n",
       "      <td>187910</td>\n",
       "      <td>136402</td>\n",
       "      <td>16305526</td>\n",
       "    </tr>\n",
       "    <tr>\n",
       "      <th>2006</th>\n",
       "      <td>185057</td>\n",
       "      <td>135372</td>\n",
       "      <td>16334210</td>\n",
       "    </tr>\n",
       "    <tr>\n",
       "      <th>2007</th>\n",
       "      <td>181336</td>\n",
       "      <td>133022</td>\n",
       "      <td>16357992</td>\n",
       "    </tr>\n",
       "    <tr>\n",
       "      <th>2008</th>\n",
       "      <td>184634</td>\n",
       "      <td>135136</td>\n",
       "      <td>16405399</td>\n",
       "    </tr>\n",
       "    <tr>\n",
       "      <th>2009</th>\n",
       "      <td>184915</td>\n",
       "      <td>134235</td>\n",
       "      <td>16485787</td>\n",
       "    </tr>\n",
       "    <tr>\n",
       "      <th>2010</th>\n",
       "      <td>184397</td>\n",
       "      <td>136058</td>\n",
       "      <td>16574989</td>\n",
       "    </tr>\n",
       "    <tr>\n",
       "      <th>2011</th>\n",
       "      <td>180060</td>\n",
       "      <td>135741</td>\n",
       "      <td>16655799</td>\n",
       "    </tr>\n",
       "    <tr>\n",
       "      <th>2012</th>\n",
       "      <td>175959</td>\n",
       "      <td>140813</td>\n",
       "      <td>16730348</td>\n",
       "    </tr>\n",
       "    <tr>\n",
       "      <th>2013</th>\n",
       "      <td>171341</td>\n",
       "      <td>141245</td>\n",
       "      <td>16779575</td>\n",
       "    </tr>\n",
       "    <tr>\n",
       "      <th>2014</th>\n",
       "      <td>175181</td>\n",
       "      <td>139223</td>\n",
       "      <td>16829289</td>\n",
       "    </tr>\n",
       "    <tr>\n",
       "      <th>2015</th>\n",
       "      <td>170510</td>\n",
       "      <td>147134</td>\n",
       "      <td>16900726</td>\n",
       "    </tr>\n",
       "    <tr>\n",
       "      <th>2016</th>\n",
       "      <td>172520</td>\n",
       "      <td>148997</td>\n",
       "      <td>16979120</td>\n",
       "    </tr>\n",
       "    <tr>\n",
       "      <th>2017</th>\n",
       "      <td>169836</td>\n",
       "      <td>150214</td>\n",
       "      <td>17081507</td>\n",
       "    </tr>\n",
       "    <tr>\n",
       "      <th>2018</th>\n",
       "      <td>168525</td>\n",
       "      <td>153363</td>\n",
       "      <td>17181084</td>\n",
       "    </tr>\n",
       "    <tr>\n",
       "      <th>2019</th>\n",
       "      <td>169680</td>\n",
       "      <td>151885</td>\n",
       "      <td>17282163</td>\n",
       "    </tr>\n",
       "    <tr>\n",
       "      <th>2020</th>\n",
       "      <td>168681</td>\n",
       "      <td>168678</td>\n",
       "      <td>17407585</td>\n",
       "    </tr>\n",
       "    <tr>\n",
       "      <th>2021*</th>\n",
       "      <td>178506</td>\n",
       "      <td>170802</td>\n",
       "      <td>17475415</td>\n",
       "    </tr>\n",
       "  </tbody>\n",
       "</table>\n",
       "</div>"
      ],
      "text/plain": [
       "          Levend geboren kinderen (aantal)  Overledenen (aantal)  \\\n",
       "Perioden                                                           \n",
       "2002                                202083                142355   \n",
       "2003                                200297                141936   \n",
       "2004                                194007                136553   \n",
       "2005                                187910                136402   \n",
       "2006                                185057                135372   \n",
       "2007                                181336                133022   \n",
       "2008                                184634                135136   \n",
       "2009                                184915                134235   \n",
       "2010                                184397                136058   \n",
       "2011                                180060                135741   \n",
       "2012                                175959                140813   \n",
       "2013                                171341                141245   \n",
       "2014                                175181                139223   \n",
       "2015                                170510                147134   \n",
       "2016                                172520                148997   \n",
       "2017                                169836                150214   \n",
       "2018                                168525                153363   \n",
       "2019                                169680                151885   \n",
       "2020                                168681                168678   \n",
       "2021*                               178506                170802   \n",
       "\n",
       "          Bevolking aan het begin van de periode (aantal)  \n",
       "Perioden                                                   \n",
       "2002                                             16105285  \n",
       "2003                                             16192572  \n",
       "2004                                             16258032  \n",
       "2005                                             16305526  \n",
       "2006                                             16334210  \n",
       "2007                                             16357992  \n",
       "2008                                             16405399  \n",
       "2009                                             16485787  \n",
       "2010                                             16574989  \n",
       "2011                                             16655799  \n",
       "2012                                             16730348  \n",
       "2013                                             16779575  \n",
       "2014                                             16829289  \n",
       "2015                                             16900726  \n",
       "2016                                             16979120  \n",
       "2017                                             17081507  \n",
       "2018                                             17181084  \n",
       "2019                                             17282163  \n",
       "2020                                             17407585  \n",
       "2021*                                            17475415  "
      ]
     },
     "execution_count": 35,
     "metadata": {},
     "output_type": "execute_result"
    }
   ],
   "source": [
    "scatter= new[['Perioden','Levend geboren kinderen (aantal)','Overledenen (aantal)', 'Bevolking aan het begin van de periode (aantal)']]\n",
    "scatter.set_index('Perioden')"
   ]
  },
  {
   "cell_type": "code",
   "execution_count": 29,
   "id": "231eb4c2",
   "metadata": {},
   "outputs": [
    {
     "data": {
      "text/plain": [
       "DeltaGenerator(_root_container=0, _provided_cursor=None, _parent=None, _block_type=None, _form_data=None)"
      ]
     },
     "execution_count": 29,
     "metadata": {},
     "output_type": "execute_result"
    }
   ],
   "source": [
    "x= scatter['Perioden']\n",
    "y= scatter['Levend geboren kinderen (aantal)']\n",
    "labels= [2002,2003,2004,2005,2006,2007,2008,2009,2010,2011,2012,2013,2014,2015,2016,2017,2018,2019,2020,2021]\n",
    "\n",
    "st.bar_chart(new['Levend geboren kinderen (aantal)'])"
   ]
  },
  {
   "cell_type": "code",
   "execution_count": 30,
   "id": "bf34f6f8",
   "metadata": {
    "scrolled": true
   },
   "outputs": [],
   "source": [
    "#x= scatter['Perioden']\n",
    "#y= scatter['Levend geboren kinderen (aantal)']\n",
    "#labels= [2002,2003,2004,2005,2006,2007,2008,2009,2010,2011,2012,2013,2014,2015,2016,2017,2018,2019,2020,2021]\n",
    "\n",
    "#plt.plot(x,y,marker='o')\n",
    "#plt.xlabel(\"Jaar\")\n",
    "#plt.ylabel(\"Aantal kinderen\")\n",
    "#plt.title(\"Aantal levend geboren kinderen per jaar\")\n",
    "#plt.xticks(x,labels, rotation='vertical')\n",
    "#plt.show()"
   ]
  },
  {
   "cell_type": "code",
   "execution_count": 31,
   "id": "54b599a8",
   "metadata": {},
   "outputs": [
    {
     "data": {
      "text/plain": [
       "DeltaGenerator(_root_container=0, _provided_cursor=None, _parent=None, _block_type=None, _form_data=None)"
      ]
     },
     "execution_count": 31,
     "metadata": {},
     "output_type": "execute_result"
    }
   ],
   "source": [
    "#scatterplot van geboren vs overleden\n",
    "st.write('Scatter plot van het aantal geboortes en overlijdes over de jaren heen.')\n",
    "st.vega_lite_chart(scatter, {\n",
    "     'mark': {'type': 'circle', 'tooltip': True}\n",
    " })\n",
    "#assen en titel toevoegen"
   ]
  },
  {
   "cell_type": "code",
   "execution_count": 32,
   "id": "8e5c9792",
   "metadata": {},
   "outputs": [],
   "source": [
    "#alitair chart as scatter polt\n",
    "\n",
    "# data for our graph\n",
    "#df = pd.DataFrame(np.random.randn(200, 3),columns=['a', 'b', 'c'])\n",
    "#c = alt.Chart(df).mark_circle().encode(x='a', y='b', size='c', color='c', tooltip=['a', 'b', 'c'])\n",
    "#printing the data\n",
    "#st.altair_chart(c, use_container_width=True)"
   ]
  },
  {
   "cell_type": "code",
   "execution_count": 33,
   "id": "b34efd8d",
   "metadata": {},
   "outputs": [
    {
     "data": {
      "text/plain": [
       "DeltaGenerator(_root_container=0, _provided_cursor=None, _parent=None, _block_type=None, _form_data=None)"
      ]
     },
     "execution_count": 33,
     "metadata": {},
     "output_type": "execute_result"
    }
   ],
   "source": [
    "#line chart van de bevolking over de jaren\n",
    "\n",
    "import altair as alt\n",
    "st.write('Een line chart om de bevolking over de jaren te zien.')\n",
    "st.line_chart(scatter['Bevolking aan het begin van de periode (aantal)'])\n",
    "#assen en titel toevoegen\n",
    "\n",
    "#c = alt.Chart(new, title='measure of different elements over time').mark_line().encode(\n",
    "    # x='date', y='value', color='parameter')\n",
    "\n",
    "#st.line_chart(c, use_container_width=True)"
   ]
  }
 ],
 "metadata": {
  "kernelspec": {
   "display_name": "Python 3 (ipykernel)",
   "language": "python",
   "name": "python3"
  },
  "language_info": {
   "codemirror_mode": {
    "name": "ipython",
    "version": 3
   },
   "file_extension": ".py",
   "mimetype": "text/x-python",
   "name": "python",
   "nbconvert_exporter": "python",
   "pygments_lexer": "ipython3",
   "version": "3.10.2"
  }
 },
 "nbformat": 4,
 "nbformat_minor": 5
}
